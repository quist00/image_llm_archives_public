{
 "cells": [
  {
   "cell_type": "code",
   "execution_count": null,
   "id": "0c0ff288",
   "metadata": {},
   "outputs": [],
   "source": [
    "import os\n",
    "import base64\n",
    "import requests\n",
    "import json\n",
    "from PIL import Image\n",
    "\n",
    "OLLAMA_ENDPOINT = \"http://localhost:11434/api/chat\"\n",
    "MODEL_NAME = \"llava:7b-v1.6-mistral-q4_0\"\n",
    "IMG_DIR = \"img/campus_scenes_jpgs\"\n",
    "\n",
    "def encode_image_to_base64(image_path):\n",
    "    with open(image_path, \"rb\") as f:\n",
    "        return base64.b64encode(f.read()).decode(\"utf-8\")\n",
    "\n",
    "def describe_image(image_path):\n",
    "    image_data = encode_image_to_base64(image_path)\n",
    "\n",
    "    payload = {\n",
    "        \"model\": MODEL_NAME,\n",
    "        \"messages\": [\n",
    "            {\n",
    "                \"role\": \"user\",\n",
    "                \"content\": \"You are a image analyst. Create a short title of 50 words or less, and a longer descrption of 200 words or less.\",\n",
    "                \"images\": [image_data]\n",
    "            }\n",
    "        ]\n",
    "    }\n",
    "\n",
    "    response = requests.post(OLLAMA_ENDPOINT, json=payload)\n",
    "    response.raise_for_status()\n",
    "\n",
    "    reply = \"\"\n",
    "    for line in response.iter_lines():\n",
    "        if line:\n",
    "            data = json.loads(line.decode(\"utf-8\"))\n",
    "            if \"message\" in data and \"content\" in data[\"message\"]:\n",
    "                reply += data[\"message\"][\"content\"]\n",
    "    if not reply:\n",
    "        raise ValueError(\"No valid message content received from Ollama.\")\n",
    "    return reply\n",
    "\n",
    "def test():\n",
    "    for filename in os.listdir(IMG_DIR):\n",
    "        if filename.lower().endswith(\".jpg\"):\n",
    "            img_path = os.path.join(IMG_DIR, filename)\n",
    "            print(f\"\\n🖼️ Analyzing: {filename}\")\n",
    "            try:\n",
    "                result = describe_image(img_path)\n",
    "                print(f\"🔍 Result:\\n{result}\")\n",
    "                with open(\"results.txt\", \"a\") as out_file:\n",
    "                    out_file.write(f\"Image: {filename}\\n{result}\\n\\n\")\n",
    "                    print('done')\n",
    "            except Exception as e:\n",
    "                print(f\"❌ Failed to analyze {filename}: {e}\")\n"
   ]
  },
  {
   "cell_type": "code",
   "execution_count": 2,
   "id": "96fc5acc",
   "metadata": {},
   "outputs": [
    {
     "name": "stdout",
     "output_type": "stream",
     "text": [
      "\n",
      "🖼️ Analyzing: Campusscene005.jpg\n",
      "🔍 Result:\n",
      " Title: \"Serene Campus Oasis\"\n",
      "\n",
      "Description: This black and white photograph captures a peaceful moment on a college campus. The focal point is a large concrete planter filled with lush green trees, offering shade to the two individuals who have chosen this spot to sit and relax. On the left side of the image, a person is seated on one of the benches, engrossed in their cell phone, perhaps studying or enjoying some leisure time. To the right, another person is sitting on a bench, facing away from the camera, absorbed in their own world. The presence of other people in the background adds to the sense of tranquility and community that characterizes such educational spaces. Despite being black and white, the image conveys a serene atmosphere, reminiscent of the quiet moments one might find on a campus walkway during a sunny day. \n",
      "done\n",
      "\n",
      "🖼️ Analyzing: BridgeYearBook1965001.jpg\n",
      "🔍 Result:\n",
      " Title: \"Serene Schoolyard Under Dusk\"\n",
      "\n",
      "Description: This black and white photograph captures a tranquil scene in a school parking lot under the soft glow of dusk. The main subject is an overhead shelter, its curved roof forming a welcoming archway over the area. The structure's shadow stretches across the pavement, adding depth to the image. A solitary figure stands near the entrance, perhaps waiting for someone or simply enjoying the peacefulness. Beyond the parking lot, a large building looms in the background, its silhouette contrasting with the evening sky. The absence of text and the timeless quality of the scene evoke a sense of quiet anticipation, as if frozen in time on this beautiful day. \n",
      "done\n",
      "\n",
      "🖼️ Analyzing: UA171_02_0236.jpg\n",
      "🔍 Result:\n",
      " Title: \"An Afternoon at the Art Park: Scultures in the Wild\"\n",
      "\n",
      "Longer Description: The image presents a tranquil scene from an art park nestled within the campus of San Diego State University. A trio of sculptures, each with its own unique aesthetic and style, stands as silent sentinels on a well-manicured lawn. To the left, a classical bust of a woman captures attention with her serene expression and detailed features. In the center, an abstract piece draws one in with its geometric forms and muted colors. On the right, a modern sculpture adds a touch of contemporary art to the scene with its clean lines and minimalistic design. The park is enclosed by trees and buildings, creating a harmonious blend of natural elements and human-made structures. The clear sky suggests an ideal day for exploring the outdoors and appreciating public art. \n",
      "done\n"
     ]
    }
   ],
   "source": [
    "test()"
   ]
  }
 ],
 "metadata": {
  "kernelspec": {
   "display_name": "venv (3.11.12)",
   "language": "python",
   "name": "python3"
  },
  "language_info": {
   "codemirror_mode": {
    "name": "ipython",
    "version": 3
   },
   "file_extension": ".py",
   "mimetype": "text/x-python",
   "name": "python",
   "nbconvert_exporter": "python",
   "pygments_lexer": "ipython3",
   "version": "3.11.12"
  }
 },
 "nbformat": 4,
 "nbformat_minor": 5
}
